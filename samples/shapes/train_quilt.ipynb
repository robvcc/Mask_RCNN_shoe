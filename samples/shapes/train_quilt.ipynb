{
 "cells": [
  {
   "cell_type": "code",
   "execution_count": 2,
   "metadata": {
    "collapsed": true
   },
   "outputs": [
    {
     "name": "stderr",
     "output_type": "stream",
     "text": [
      "Using TensorFlow backend.\n"
     ]
    }
   ],
   "source": [
    "import os\n",
    "import sys\n",
    "import random\n",
    "import math\n",
    "import re\n",
    "import time\n",
    "import numpy as np\n",
    "import cv2\n",
    "\n",
    "import matplotlib\n",
    "import matplotlib.pyplot as plt\n",
    "import tensorflow as tf\n",
    "from mrcnn.config import Config\n",
    "#import utils\n",
    "from mrcnn import model as modellib,utils\n",
    "from mrcnn import visualize\n",
    "import yaml\n",
    "from mrcnn.model import log\n",
    "from PIL import Image"
   ]
  },
  {
   "cell_type": "code",
   "execution_count": 3,
   "metadata": {},
   "outputs": [
    {
     "name": "stdout",
     "output_type": "stream",
     "text": [
      "/home/ljt/Mask_RCNN/logs\n"
     ]
    }
   ],
   "source": [
    "ROOT_DIR = os.path.abspath(\"\")\n",
    "# Directory to save logs and trained model\n",
    "MODEL_DIR = os.path.join(ROOT_DIR, \"logs\")\n",
    "print(MODEL_DIR)\n",
    "iter_num=0\n",
    "\n",
    "\n",
    "# Local path to trained weights file\n",
    "COCO_MODEL_PATH = os.path.join(ROOT_DIR, \"mask_rcnn_coco.h5\")\n",
    "# Download COCO trained weights from Releases if needed\n",
    "if not os.path.exists(COCO_MODEL_PATH):\n",
    "    utils.download_trained_weights(COCO_MODEL_PATH)\n",
    "\n",
    "\n",
    "class ShapesConfig(Config):\n",
    "    \"\"\"Configuration for training on the toy shapes dataset.\n",
    "    Derives from the base Config class and overrides values specific\n",
    "    to the toy shapes dataset.\n",
    "    \"\"\"\n",
    "    # Give the configuration a recognizable name\n",
    "    NAME = \"shape\"\n",
    "\n",
    "    # Train on 1 GPU and 8 images per GPU. We can put multiple images on each\n",
    "    # GPU because the images are small. Batch size is 8 (GPUs * images/GPU).\n",
    "    GPU_COUNT = 1\n",
    "    IMAGES_PER_GPU = 2\n",
    "\n",
    "    # Number of classes (including background)\n",
    "    NUM_CLASSES = 1 + 2  # background + 6 shapes\n",
    "\n",
    "    # Use small images for faster training. Set the limits of the small side\n",
    "    # the large side, and that determines the image shape.\n",
    "    IMAGE_MIN_DIM = 320\n",
    "    IMAGE_MAX_DIM = 384\n",
    "\n",
    "    # Use smaller anchors because our image and objects are small\n",
    "    RPN_ANCHOR_SCALES = (8 * 6, 16 * 6, 32 * 6, 64 * 6, 128 * 6)  # anchor side in pixels\n",
    "\n",
    "    # Reduce training ROIs per image because the images are small and have\n",
    "    # few objects. Aim to allow ROI sampling to pick 33% positive ROIs.\n",
    "    TRAIN_ROIS_PER_IMAGE = 100\n",
    "\n",
    "    # Use a small epoch since the data is simple\n",
    "    STEPS_PER_EPOCH = 100\n",
    "\n",
    "    # use small validation steps since the epoch is small\n",
    "    VALIDATION_STEPS = 50\n",
    "\n",
    "\n",
    "config = ShapesConfig()\n",
    "# config.display()\n"
   ]
  },
  {
   "cell_type": "code",
   "execution_count": 5,
   "metadata": {},
   "outputs": [],
   "source": [
    "class DrugDataset(utils.Dataset):\n",
    "    # 得到该图中有多少个实例（物体）\n",
    "    def get_obj_index(self, image):\n",
    "        n = np.max(image)\n",
    "        return n\n",
    "\n",
    "    # 解析labelme中得到的yaml文件，从而得到mask每一层对应的实例标签\n",
    "    def from_yaml_get_class(self, image_id):\n",
    "        info = self.image_info[image_id]\n",
    "        with open(info['yaml_path']) as f:\n",
    "            temp = yaml.load(f.read())\n",
    "            labels = temp['label_names']\n",
    "            del labels[0]\n",
    "        return labels\n",
    "\n",
    "    # 重新写draw_mask\n",
    "    def draw_mask(self, num_obj, mask, image,image_id):\n",
    "        #print(\"draw_mask-->\",image_id)\n",
    "        #print(\"self.image_info\",self.image_info)\n",
    "        info = self.image_info[image_id]\n",
    "        #print(\"info-->\",info)\n",
    "        #print(\"info[width]----->\",info['width'],\"-info[height]--->\",info['height'])\n",
    "        for index in range(num_obj):\n",
    "            for i in range(info['width']):\n",
    "                for j in range(info['height']):\n",
    "                    #print(\"image_id-->\",image_id,\"-i--->\",i,\"-j--->\",j)\n",
    "                    #print(\"info[width]----->\",info['width'],\"-info[height]--->\",info['height'])\n",
    "                    at_pixel = image.getpixel((i, j))\n",
    "                    if at_pixel == index + 1:\n",
    "                        mask[j, i, index] = 1\n",
    "        return mask\n",
    "\n",
    "    # 重新写load_shapes，里面包含自己的类别,可以任意添加\n",
    "    # 并在self.image_info信息中添加了path、mask_path 、yaml_path\n",
    "    # yaml_pathdataset_root_path = \"/tongue_dateset/\"\n",
    "    # img_floder = dataset_root_path + \"rgb\"\n",
    "    # mask_floder = dataset_root_path + \"mask\"\n",
    "    # dataset_root_path = \"/tongue_dateset/\"\n",
    "    def load_shapes(self, count, img_floder, mask_floder, imglist, dataset_root_path):\n",
    "        \"\"\"Generate the requested number of synthetic images.\n",
    "        count: number of images to generate.\n",
    "        height, width: the size of the generated images.\n",
    "        \"\"\"\n",
    "        # Add classes,可通过这种方式扩展多个物体\n",
    "        self.add_class(\"shapes\", 1, \"baby\") # 黑色素瘤\n",
    "        self.add_class(\"shapes\", 2, \"quilt\")\n",
    "        for i in range(count):\n",
    "            # 获取图片宽和高\n",
    "\n",
    "            filestr = imglist[i].split(\".\")[0]\n",
    "            #print(imglist[i],\"-->\",cv_img.shape[1],\"--->\",cv_img.shape[0])\n",
    "            #print(\"id-->\", i, \" imglist[\", i, \"]-->\", imglist[i],\"filestr-->\",filestr)\n",
    "            #filestr = filestr.split(\"_\")[1]\n",
    "            mask_path = mask_floder + \"/\" + filestr + \".png\"\n",
    "            yaml_path = dataset_root_path + \"labelme_json/rgb_\" + filestr + \"_json/info.yaml\"\n",
    "            # print(dataset_root_path + \"labelme_json/\" + filestr + \"_json/img.png\")\n",
    "            cv_img = cv2.imread(dataset_root_path + \"pic/\" + filestr + \".png\")\n",
    "\n",
    "            self.add_image(\"shapes\", image_id=i, path=img_floder + \"/\" + imglist[i],\n",
    "                           width=cv_img.shape[1], height=cv_img.shape[0], mask_path=mask_path, yaml_path=yaml_path)\n",
    "\n",
    "    # 重写load_mask\n",
    "    def load_mask(self, image_id):\n",
    "        \"\"\"Generate instance masks for shapes of the given image ID.\n",
    "        \"\"\"\n",
    "        global iter_num\n",
    "        print(\"image_id\",image_id)\n",
    "        info = self.image_info[image_id]\n",
    "        count = 1  # number of object\n",
    "        img = Image.open(info['mask_path'])\n",
    "        num_obj = self.get_obj_index(img)\n",
    "        mask = np.zeros([info['height'], info['width'], num_obj], dtype=np.uint8)\n",
    "        mask = self.draw_mask(num_obj, mask, img,image_id)\n",
    "        occlusion = np.logical_not(mask[:, :, -1]).astype(np.uint8)\n",
    "        for i in range(count - 2, -1, -1):\n",
    "            mask[:, :, i] = mask[:, :, i] * occlusion\n",
    "\n",
    "            occlusion = np.logical_and(occlusion, np.logical_not(mask[:, :, i]))\n",
    "        labels = []\n",
    "        labels = self.from_yaml_get_class(image_id)\n",
    "        labels_form = []\n",
    "        for i in range(len(labels)):\n",
    "            if labels[i].find(\"baby\") != -1:\n",
    "                labels_form.append(\"baby\")\n",
    "            elif labels[i].find(\"quilt\") != -1:\n",
    "                labels_form.append(\"quilt\")\n",
    "        class_ids = np.array([self.class_names.index(s) for s in labels_form])\n",
    "        return mask, class_ids.astype(np.int32)\n"
   ]
  },
  {
   "cell_type": "code",
   "execution_count": 7,
   "metadata": {},
   "outputs": [
    {
     "name": "stdout",
     "output_type": "stream",
     "text": [
      "['9.png', '29.png', '60.png', '15.png', '42.png', '49.png', '65.png', '40.png', '12.png', '68.png', '14.png', '59.png', '11.png', '10.png', '48.png', '4.png', '26.png', '34.png', '6.png', '41.png', '28.png', '1.png', '22.png', '24.png', '51.png', '66.png', '63.png', '30.png', '3.png', '55.png', '64.png', '2.png', '21.png', '61.png', '50.png', '45.png', '35.png', '62.png', '37.png', '36.png', '27.png', '13.png', '47.png', '58.png', '39.png', '20.png', '56.png', '8.png', '23.png', '53.png', '25.png', '32.png', '19.png', '46.png', '5.png', '31.png', '54.png', '17.png', '18.png', '52.png', '57.png', '43.png', '7.png', '67.png', '44.png', '33.png', '16.png']\n67\n"
     ]
    }
   ],
   "source": [
    "dataset_root_path=ROOT_DIR+\"/quilt_data/\"\n",
    "img_floder = dataset_root_path + \"pic\"\n",
    "# print(img_floder)\n",
    "mask_floder = dataset_root_path + \"cv2_mask\"\n",
    "#yaml_floder = dataset_root_path\n",
    "imglist = os.listdir(img_floder)\n",
    "count = len(imglist)\n",
    "print(imglist)\n",
    "print(count)\n",
    "\n",
    "#train与val数据集准备\n",
    "dataset_train = DrugDataset()\n",
    "dataset_train.load_shapes(count, img_floder, mask_floder, imglist, dataset_root_path)\n",
    "dataset_train.prepare()\n",
    "\n",
    "dataset_val = DrugDataset()\n",
    "dataset_val.load_shapes(10, img_floder, mask_floder, imglist, dataset_root_path)\n",
    "dataset_val.prepare()"
   ]
  },
  {
   "cell_type": "code",
   "execution_count": 8,
   "metadata": {
    "collapsed": true
   },
   "outputs": [],
   "source": [
    "image_ids = np.random.choice(dataset_train.image_ids, 4)\n",
    "for image_id in image_ids:\n",
    "    image = dataset_train.load_image(image_id)\n",
    "    mask, class_ids = dataset_train.load_mask(image_id)\n",
    "    # visualize.display_top_masks(image, mask, \n",
    "    #                             class_ids, dataset_train.class_names)"
   ]
  },
  {
   "cell_type": "code",
   "execution_count": 9,
   "metadata": {
    "collapsed": true
   },
   "outputs": [],
   "source": [
    "print(\"dataset_val-->\",dataset_val._image_ids)\n",
    "image_ids = np.random.choice(dataset_val.image_ids, 4)\n",
    "for image_id in image_ids:\n",
    "   image = dataset_train.load_image(image_id)\n",
    "   mask, class_ids = dataset_train.load_mask(image_id)\n",
    "   # visualize.display_top_masks(image, mask, class_ids, dataset_train.class_names)"
   ]
  },
  {
   "cell_type": "code",
   "execution_count": 10,
   "metadata": {
    "collapsed": true
   },
   "outputs": [],
   "source": [
    "model = modellib.MaskRCNN(mode=\"training\", config=config,\n",
    "                          model_dir=MODEL_DIR)\n",
    "init_with = \"coco\"  # imagenet, coco, or last\n",
    "\n",
    "if init_with == \"imagenet\":\n",
    "    model.load_weights(model.get_imagenet_weights(), by_name=True)\n",
    "elif init_with == \"coco\":\n",
    "    # Load weights trained on MS COCO, but skip layers that\n",
    "    # are different due to the different number of classes\n",
    "    # See README for instructions to download the COCO weights\n",
    "    model.load_weights(COCO_MODEL_PATH, by_name=True,\n",
    "                       exclude=[\"mrcnn_class_logits\", \"mrcnn_bbox_fc\",\n",
    "                                \"mrcnn_bbox\", \"mrcnn_mask\"])\n",
    "elif init_with == \"last\":\n",
    "    # Load the last model you trained and continue training\n",
    "    model.load_weights(model.find_last()[1], by_name=True)"
   ]
  },
  {
   "cell_type": "code",
   "execution_count": 11,
   "metadata": {
    "collapsed": true
   },
   "outputs": [],
   "source": [
    "model.train(dataset_train, dataset_val,\n",
    "            learning_rate=config.LEARNING_RATE/10,\n",
    "            epochs=120,\n",
    "            layers='heads')"
   ]
  },
  {
   "cell_type": "code",
   "execution_count": 14,
   "metadata": {
    "collapsed": true
   },
   "outputs": [],
   "source": [
    "# Save weights\n",
    "# Typically not needed because callbacks save after every epoch\n",
    "# Uncomment to save manually\n",
    "import os\n",
    "MODEL_DIR = os.path.join(ROOT_DIR, \"logs\")\n",
    "model_2_path = os.path.join(MODEL_DIR, \"shape20181022T1535\")\n",
    "\n",
    "model_path = os.path.join(model_2_path, \"mask_rcnn_shape_0027.h5\")\n",
    "print(model_path)\n",
    "model.keras_model.save_weights(model_path)"
   ]
  }
 ],
 "metadata": {
  "kernelspec": {
   "display_name": "Python 2",
   "language": "python",
   "name": "python2"
  },
  "language_info": {
   "codemirror_mode": {
    "name": "ipython",
    "version": 2
   },
   "file_extension": ".py",
   "mimetype": "text/x-python",
   "name": "python",
   "nbconvert_exporter": "python",
   "pygments_lexer": "ipython2",
   "version": "2.7.6"
  }
 },
 "nbformat": 4,
 "nbformat_minor": 0
}
